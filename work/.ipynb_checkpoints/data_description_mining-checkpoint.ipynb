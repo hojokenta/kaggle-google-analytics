{
 "cells": [
  {
   "cell_type": "code",
   "execution_count": 4,
   "metadata": {},
   "outputs": [
    {
     "data": {
      "text/html": [
       "<script>requirejs.config({paths: { 'plotly': ['https://cdn.plot.ly/plotly-latest.min']},});if(!window.Plotly) {{require(['plotly'],function(plotly) {window.Plotly=plotly;});}}</script>"
      ],
      "text/vnd.plotly.v1+html": [
       "<script>requirejs.config({paths: { 'plotly': ['https://cdn.plot.ly/plotly-latest.min']},});if(!window.Plotly) {{require(['plotly'],function(plotly) {window.Plotly=plotly;});}}</script>"
      ]
     },
     "metadata": {},
     "output_type": "display_data"
    },
    {
     "name": "stderr",
     "output_type": "stream",
     "text": [
      "/Users/01008968/.pyenv/versions/anaconda3-5.2.0/lib/python3.6/site-packages/lightgbm/__init__.py:46: UserWarning:\n",
      "\n",
      "Starting from version 2.2.1, the library file in distribution wheels for macOS is built by the Apple Clang (Xcode_9.4.1) compiler.\n",
      "This means that in case of installing LightGBM from PyPI via the ``pip install lightgbm`` command, you don't need to install the gcc compiler anymore.\n",
      "Instead of that, you need to install the OpenMP library, which is required for running LightGBM on the system with the Apple Clang compiler.\n",
      "You can install the OpenMP library by the following command: ``brew install libomp``.\n",
      "\n"
     ]
    }
   ],
   "source": [
    "# -*- coding: utf-8 -*-\n",
    "import os\n",
    "import json\n",
    "import datetime\n",
    "import numpy as np\n",
    "import pandas as pd\n",
    "from pandas.io.json import json_normalize\n",
    "import matplotlib.pyplot as plt\n",
    "import seaborn as sns\n",
    "color = sns.color_palette()\n",
    "\n",
    "%matplotlib inline\n",
    "\n",
    "from plotly import tools\n",
    "import plotly.offline as py\n",
    "py.init_notebook_mode(connected=True)\n",
    "import plotly.graph_objs as go\n",
    "\n",
    "from sklearn import model_selection, preprocessing, metrics\n",
    "import lightgbm as lgb\n",
    "\n",
    "pd.options.mode.chained_assignment = None\n",
    "pd.options.display.max_columns = 999"
   ]
  },
  {
   "cell_type": "code",
   "execution_count": 5,
   "metadata": {},
   "outputs": [],
   "source": [
    "#json形式のカラムを正規化\n",
    "def load_df(csv_path='../input/train.csv', nrows=None):\n",
    "    JSON_COLUMNS = ['device', 'geoNetwork', 'totals', 'trafficSource']\n",
    "    \n",
    "    df = pd.read_csv(csv_path, \n",
    "                     converters={column: json.loads for column in JSON_COLUMNS}, \n",
    "                     dtype={'fullVisitorId': 'str'}, # Important!!\n",
    "                     nrows=nrows)\n",
    "    \n",
    "    for column in JSON_COLUMNS:\n",
    "        column_as_df = json_normalize(df[column])\n",
    "        column_as_df.columns = [f\"{column}.{subcolumn}\" for subcolumn in column_as_df.columns]\n",
    "        df = df.drop(column, axis=1).merge(column_as_df, right_index=True, left_index=True)\n",
    "    print(f\"Loaded {os.path.basename(csv_path)}. Shape: {df.shape}\")\n",
    "    return df"
   ]
  },
  {
   "cell_type": "code",
   "execution_count": 13,
   "metadata": {},
   "outputs": [
    {
     "name": "stdout",
     "output_type": "stream",
     "text": [
      "Loaded train.csv. Shape: (903653, 55)\n",
      "Loaded test.csv. Shape: (804684, 53)\n",
      "CPU times: user 4min 13s, sys: 18.8 s, total: 4min 32s\n",
      "Wall time: 4min 38s\n"
     ]
    }
   ],
   "source": [
    "%%time\n",
    "# データの読み込み\n",
    "train_df = load_df()\n",
    "test_df = load_df(\"../input/test.csv\")"
   ]
  },
  {
   "cell_type": "code",
   "execution_count": 14,
   "metadata": {},
   "outputs": [
    {
     "data": {
      "text/html": [
       "<div>\n",
       "<style scoped>\n",
       "    .dataframe tbody tr th:only-of-type {\n",
       "        vertical-align: middle;\n",
       "    }\n",
       "\n",
       "    .dataframe tbody tr th {\n",
       "        vertical-align: top;\n",
       "    }\n",
       "\n",
       "    .dataframe thead th {\n",
       "        text-align: right;\n",
       "    }\n",
       "</style>\n",
       "<table border=\"1\" class=\"dataframe\">\n",
       "  <thead>\n",
       "    <tr style=\"text-align: right;\">\n",
       "      <th></th>\n",
       "      <th>channelGrouping</th>\n",
       "      <th>date</th>\n",
       "      <th>fullVisitorId</th>\n",
       "      <th>sessionId</th>\n",
       "      <th>socialEngagementType</th>\n",
       "      <th>visitId</th>\n",
       "      <th>visitNumber</th>\n",
       "      <th>visitStartTime</th>\n",
       "      <th>device.browser</th>\n",
       "      <th>device.browserSize</th>\n",
       "      <th>device.browserVersion</th>\n",
       "      <th>device.deviceCategory</th>\n",
       "      <th>device.flashVersion</th>\n",
       "      <th>device.isMobile</th>\n",
       "      <th>device.language</th>\n",
       "      <th>device.mobileDeviceBranding</th>\n",
       "      <th>device.mobileDeviceInfo</th>\n",
       "      <th>device.mobileDeviceMarketingName</th>\n",
       "      <th>device.mobileDeviceModel</th>\n",
       "      <th>device.mobileInputSelector</th>\n",
       "      <th>device.operatingSystem</th>\n",
       "      <th>device.operatingSystemVersion</th>\n",
       "      <th>device.screenColors</th>\n",
       "      <th>device.screenResolution</th>\n",
       "      <th>geoNetwork.city</th>\n",
       "      <th>geoNetwork.cityId</th>\n",
       "      <th>geoNetwork.continent</th>\n",
       "      <th>geoNetwork.country</th>\n",
       "      <th>geoNetwork.latitude</th>\n",
       "      <th>geoNetwork.longitude</th>\n",
       "      <th>geoNetwork.metro</th>\n",
       "      <th>geoNetwork.networkDomain</th>\n",
       "      <th>geoNetwork.networkLocation</th>\n",
       "      <th>geoNetwork.region</th>\n",
       "      <th>geoNetwork.subContinent</th>\n",
       "      <th>totals.bounces</th>\n",
       "      <th>totals.hits</th>\n",
       "      <th>totals.newVisits</th>\n",
       "      <th>totals.pageviews</th>\n",
       "      <th>totals.transactionRevenue</th>\n",
       "      <th>totals.visits</th>\n",
       "      <th>trafficSource.adContent</th>\n",
       "      <th>trafficSource.adwordsClickInfo.adNetworkType</th>\n",
       "      <th>trafficSource.adwordsClickInfo.criteriaParameters</th>\n",
       "      <th>trafficSource.adwordsClickInfo.gclId</th>\n",
       "      <th>trafficSource.adwordsClickInfo.isVideoAd</th>\n",
       "      <th>trafficSource.adwordsClickInfo.page</th>\n",
       "      <th>trafficSource.adwordsClickInfo.slot</th>\n",
       "      <th>trafficSource.campaign</th>\n",
       "      <th>trafficSource.campaignCode</th>\n",
       "      <th>trafficSource.isTrueDirect</th>\n",
       "      <th>trafficSource.keyword</th>\n",
       "      <th>trafficSource.medium</th>\n",
       "      <th>trafficSource.referralPath</th>\n",
       "      <th>trafficSource.source</th>\n",
       "    </tr>\n",
       "  </thead>\n",
       "  <tbody>\n",
       "    <tr>\n",
       "      <th>0</th>\n",
       "      <td>Organic Search</td>\n",
       "      <td>20160902</td>\n",
       "      <td>1131660440785968503</td>\n",
       "      <td>1131660440785968503_1472830385</td>\n",
       "      <td>Not Socially Engaged</td>\n",
       "      <td>1472830385</td>\n",
       "      <td>1</td>\n",
       "      <td>1472830385</td>\n",
       "      <td>Chrome</td>\n",
       "      <td>not available in demo dataset</td>\n",
       "      <td>not available in demo dataset</td>\n",
       "      <td>desktop</td>\n",
       "      <td>not available in demo dataset</td>\n",
       "      <td>False</td>\n",
       "      <td>not available in demo dataset</td>\n",
       "      <td>not available in demo dataset</td>\n",
       "      <td>not available in demo dataset</td>\n",
       "      <td>not available in demo dataset</td>\n",
       "      <td>not available in demo dataset</td>\n",
       "      <td>not available in demo dataset</td>\n",
       "      <td>Windows</td>\n",
       "      <td>not available in demo dataset</td>\n",
       "      <td>not available in demo dataset</td>\n",
       "      <td>not available in demo dataset</td>\n",
       "      <td>Izmir</td>\n",
       "      <td>not available in demo dataset</td>\n",
       "      <td>Asia</td>\n",
       "      <td>Turkey</td>\n",
       "      <td>not available in demo dataset</td>\n",
       "      <td>not available in demo dataset</td>\n",
       "      <td>(not set)</td>\n",
       "      <td>ttnet.com.tr</td>\n",
       "      <td>not available in demo dataset</td>\n",
       "      <td>Izmir</td>\n",
       "      <td>Western Asia</td>\n",
       "      <td>1</td>\n",
       "      <td>1</td>\n",
       "      <td>1</td>\n",
       "      <td>1</td>\n",
       "      <td>NaN</td>\n",
       "      <td>1</td>\n",
       "      <td>NaN</td>\n",
       "      <td>NaN</td>\n",
       "      <td>not available in demo dataset</td>\n",
       "      <td>NaN</td>\n",
       "      <td>NaN</td>\n",
       "      <td>NaN</td>\n",
       "      <td>NaN</td>\n",
       "      <td>(not set)</td>\n",
       "      <td>NaN</td>\n",
       "      <td>NaN</td>\n",
       "      <td>(not provided)</td>\n",
       "      <td>organic</td>\n",
       "      <td>NaN</td>\n",
       "      <td>google</td>\n",
       "    </tr>\n",
       "    <tr>\n",
       "      <th>1</th>\n",
       "      <td>Organic Search</td>\n",
       "      <td>20160902</td>\n",
       "      <td>377306020877927890</td>\n",
       "      <td>377306020877927890_1472880147</td>\n",
       "      <td>Not Socially Engaged</td>\n",
       "      <td>1472880147</td>\n",
       "      <td>1</td>\n",
       "      <td>1472880147</td>\n",
       "      <td>Firefox</td>\n",
       "      <td>not available in demo dataset</td>\n",
       "      <td>not available in demo dataset</td>\n",
       "      <td>desktop</td>\n",
       "      <td>not available in demo dataset</td>\n",
       "      <td>False</td>\n",
       "      <td>not available in demo dataset</td>\n",
       "      <td>not available in demo dataset</td>\n",
       "      <td>not available in demo dataset</td>\n",
       "      <td>not available in demo dataset</td>\n",
       "      <td>not available in demo dataset</td>\n",
       "      <td>not available in demo dataset</td>\n",
       "      <td>Macintosh</td>\n",
       "      <td>not available in demo dataset</td>\n",
       "      <td>not available in demo dataset</td>\n",
       "      <td>not available in demo dataset</td>\n",
       "      <td>not available in demo dataset</td>\n",
       "      <td>not available in demo dataset</td>\n",
       "      <td>Oceania</td>\n",
       "      <td>Australia</td>\n",
       "      <td>not available in demo dataset</td>\n",
       "      <td>not available in demo dataset</td>\n",
       "      <td>not available in demo dataset</td>\n",
       "      <td>dodo.net.au</td>\n",
       "      <td>not available in demo dataset</td>\n",
       "      <td>not available in demo dataset</td>\n",
       "      <td>Australasia</td>\n",
       "      <td>1</td>\n",
       "      <td>1</td>\n",
       "      <td>1</td>\n",
       "      <td>1</td>\n",
       "      <td>NaN</td>\n",
       "      <td>1</td>\n",
       "      <td>NaN</td>\n",
       "      <td>NaN</td>\n",
       "      <td>not available in demo dataset</td>\n",
       "      <td>NaN</td>\n",
       "      <td>NaN</td>\n",
       "      <td>NaN</td>\n",
       "      <td>NaN</td>\n",
       "      <td>(not set)</td>\n",
       "      <td>NaN</td>\n",
       "      <td>NaN</td>\n",
       "      <td>(not provided)</td>\n",
       "      <td>organic</td>\n",
       "      <td>NaN</td>\n",
       "      <td>google</td>\n",
       "    </tr>\n",
       "    <tr>\n",
       "      <th>2</th>\n",
       "      <td>Organic Search</td>\n",
       "      <td>20160902</td>\n",
       "      <td>3895546263509774583</td>\n",
       "      <td>3895546263509774583_1472865386</td>\n",
       "      <td>Not Socially Engaged</td>\n",
       "      <td>1472865386</td>\n",
       "      <td>1</td>\n",
       "      <td>1472865386</td>\n",
       "      <td>Chrome</td>\n",
       "      <td>not available in demo dataset</td>\n",
       "      <td>not available in demo dataset</td>\n",
       "      <td>desktop</td>\n",
       "      <td>not available in demo dataset</td>\n",
       "      <td>False</td>\n",
       "      <td>not available in demo dataset</td>\n",
       "      <td>not available in demo dataset</td>\n",
       "      <td>not available in demo dataset</td>\n",
       "      <td>not available in demo dataset</td>\n",
       "      <td>not available in demo dataset</td>\n",
       "      <td>not available in demo dataset</td>\n",
       "      <td>Windows</td>\n",
       "      <td>not available in demo dataset</td>\n",
       "      <td>not available in demo dataset</td>\n",
       "      <td>not available in demo dataset</td>\n",
       "      <td>Madrid</td>\n",
       "      <td>not available in demo dataset</td>\n",
       "      <td>Europe</td>\n",
       "      <td>Spain</td>\n",
       "      <td>not available in demo dataset</td>\n",
       "      <td>not available in demo dataset</td>\n",
       "      <td>(not set)</td>\n",
       "      <td>unknown.unknown</td>\n",
       "      <td>not available in demo dataset</td>\n",
       "      <td>Community of Madrid</td>\n",
       "      <td>Southern Europe</td>\n",
       "      <td>1</td>\n",
       "      <td>1</td>\n",
       "      <td>1</td>\n",
       "      <td>1</td>\n",
       "      <td>NaN</td>\n",
       "      <td>1</td>\n",
       "      <td>NaN</td>\n",
       "      <td>NaN</td>\n",
       "      <td>not available in demo dataset</td>\n",
       "      <td>NaN</td>\n",
       "      <td>NaN</td>\n",
       "      <td>NaN</td>\n",
       "      <td>NaN</td>\n",
       "      <td>(not set)</td>\n",
       "      <td>NaN</td>\n",
       "      <td>NaN</td>\n",
       "      <td>(not provided)</td>\n",
       "      <td>organic</td>\n",
       "      <td>NaN</td>\n",
       "      <td>google</td>\n",
       "    </tr>\n",
       "    <tr>\n",
       "      <th>3</th>\n",
       "      <td>Organic Search</td>\n",
       "      <td>20160902</td>\n",
       "      <td>4763447161404445595</td>\n",
       "      <td>4763447161404445595_1472881213</td>\n",
       "      <td>Not Socially Engaged</td>\n",
       "      <td>1472881213</td>\n",
       "      <td>1</td>\n",
       "      <td>1472881213</td>\n",
       "      <td>UC Browser</td>\n",
       "      <td>not available in demo dataset</td>\n",
       "      <td>not available in demo dataset</td>\n",
       "      <td>desktop</td>\n",
       "      <td>not available in demo dataset</td>\n",
       "      <td>False</td>\n",
       "      <td>not available in demo dataset</td>\n",
       "      <td>not available in demo dataset</td>\n",
       "      <td>not available in demo dataset</td>\n",
       "      <td>not available in demo dataset</td>\n",
       "      <td>not available in demo dataset</td>\n",
       "      <td>not available in demo dataset</td>\n",
       "      <td>Linux</td>\n",
       "      <td>not available in demo dataset</td>\n",
       "      <td>not available in demo dataset</td>\n",
       "      <td>not available in demo dataset</td>\n",
       "      <td>not available in demo dataset</td>\n",
       "      <td>not available in demo dataset</td>\n",
       "      <td>Asia</td>\n",
       "      <td>Indonesia</td>\n",
       "      <td>not available in demo dataset</td>\n",
       "      <td>not available in demo dataset</td>\n",
       "      <td>not available in demo dataset</td>\n",
       "      <td>unknown.unknown</td>\n",
       "      <td>not available in demo dataset</td>\n",
       "      <td>not available in demo dataset</td>\n",
       "      <td>Southeast Asia</td>\n",
       "      <td>1</td>\n",
       "      <td>1</td>\n",
       "      <td>1</td>\n",
       "      <td>1</td>\n",
       "      <td>NaN</td>\n",
       "      <td>1</td>\n",
       "      <td>NaN</td>\n",
       "      <td>NaN</td>\n",
       "      <td>not available in demo dataset</td>\n",
       "      <td>NaN</td>\n",
       "      <td>NaN</td>\n",
       "      <td>NaN</td>\n",
       "      <td>NaN</td>\n",
       "      <td>(not set)</td>\n",
       "      <td>NaN</td>\n",
       "      <td>NaN</td>\n",
       "      <td>google + online</td>\n",
       "      <td>organic</td>\n",
       "      <td>NaN</td>\n",
       "      <td>google</td>\n",
       "    </tr>\n",
       "    <tr>\n",
       "      <th>4</th>\n",
       "      <td>Organic Search</td>\n",
       "      <td>20160902</td>\n",
       "      <td>27294437909732085</td>\n",
       "      <td>27294437909732085_1472822600</td>\n",
       "      <td>Not Socially Engaged</td>\n",
       "      <td>1472822600</td>\n",
       "      <td>2</td>\n",
       "      <td>1472822600</td>\n",
       "      <td>Chrome</td>\n",
       "      <td>not available in demo dataset</td>\n",
       "      <td>not available in demo dataset</td>\n",
       "      <td>mobile</td>\n",
       "      <td>not available in demo dataset</td>\n",
       "      <td>True</td>\n",
       "      <td>not available in demo dataset</td>\n",
       "      <td>not available in demo dataset</td>\n",
       "      <td>not available in demo dataset</td>\n",
       "      <td>not available in demo dataset</td>\n",
       "      <td>not available in demo dataset</td>\n",
       "      <td>not available in demo dataset</td>\n",
       "      <td>Android</td>\n",
       "      <td>not available in demo dataset</td>\n",
       "      <td>not available in demo dataset</td>\n",
       "      <td>not available in demo dataset</td>\n",
       "      <td>not available in demo dataset</td>\n",
       "      <td>not available in demo dataset</td>\n",
       "      <td>Europe</td>\n",
       "      <td>United Kingdom</td>\n",
       "      <td>not available in demo dataset</td>\n",
       "      <td>not available in demo dataset</td>\n",
       "      <td>not available in demo dataset</td>\n",
       "      <td>unknown.unknown</td>\n",
       "      <td>not available in demo dataset</td>\n",
       "      <td>not available in demo dataset</td>\n",
       "      <td>Northern Europe</td>\n",
       "      <td>1</td>\n",
       "      <td>1</td>\n",
       "      <td>NaN</td>\n",
       "      <td>1</td>\n",
       "      <td>NaN</td>\n",
       "      <td>1</td>\n",
       "      <td>NaN</td>\n",
       "      <td>NaN</td>\n",
       "      <td>not available in demo dataset</td>\n",
       "      <td>NaN</td>\n",
       "      <td>NaN</td>\n",
       "      <td>NaN</td>\n",
       "      <td>NaN</td>\n",
       "      <td>(not set)</td>\n",
       "      <td>NaN</td>\n",
       "      <td>True</td>\n",
       "      <td>(not provided)</td>\n",
       "      <td>organic</td>\n",
       "      <td>NaN</td>\n",
       "      <td>google</td>\n",
       "    </tr>\n",
       "  </tbody>\n",
       "</table>\n",
       "</div>"
      ],
      "text/plain": [
       "  channelGrouping      date        fullVisitorId  \\\n",
       "0  Organic Search  20160902  1131660440785968503   \n",
       "1  Organic Search  20160902   377306020877927890   \n",
       "2  Organic Search  20160902  3895546263509774583   \n",
       "3  Organic Search  20160902  4763447161404445595   \n",
       "4  Organic Search  20160902    27294437909732085   \n",
       "\n",
       "                        sessionId  socialEngagementType     visitId  \\\n",
       "0  1131660440785968503_1472830385  Not Socially Engaged  1472830385   \n",
       "1   377306020877927890_1472880147  Not Socially Engaged  1472880147   \n",
       "2  3895546263509774583_1472865386  Not Socially Engaged  1472865386   \n",
       "3  4763447161404445595_1472881213  Not Socially Engaged  1472881213   \n",
       "4    27294437909732085_1472822600  Not Socially Engaged  1472822600   \n",
       "\n",
       "   visitNumber  visitStartTime device.browser             device.browserSize  \\\n",
       "0            1      1472830385         Chrome  not available in demo dataset   \n",
       "1            1      1472880147        Firefox  not available in demo dataset   \n",
       "2            1      1472865386         Chrome  not available in demo dataset   \n",
       "3            1      1472881213     UC Browser  not available in demo dataset   \n",
       "4            2      1472822600         Chrome  not available in demo dataset   \n",
       "\n",
       "           device.browserVersion device.deviceCategory  \\\n",
       "0  not available in demo dataset               desktop   \n",
       "1  not available in demo dataset               desktop   \n",
       "2  not available in demo dataset               desktop   \n",
       "3  not available in demo dataset               desktop   \n",
       "4  not available in demo dataset                mobile   \n",
       "\n",
       "             device.flashVersion  device.isMobile  \\\n",
       "0  not available in demo dataset            False   \n",
       "1  not available in demo dataset            False   \n",
       "2  not available in demo dataset            False   \n",
       "3  not available in demo dataset            False   \n",
       "4  not available in demo dataset             True   \n",
       "\n",
       "                 device.language    device.mobileDeviceBranding  \\\n",
       "0  not available in demo dataset  not available in demo dataset   \n",
       "1  not available in demo dataset  not available in demo dataset   \n",
       "2  not available in demo dataset  not available in demo dataset   \n",
       "3  not available in demo dataset  not available in demo dataset   \n",
       "4  not available in demo dataset  not available in demo dataset   \n",
       "\n",
       "         device.mobileDeviceInfo device.mobileDeviceMarketingName  \\\n",
       "0  not available in demo dataset    not available in demo dataset   \n",
       "1  not available in demo dataset    not available in demo dataset   \n",
       "2  not available in demo dataset    not available in demo dataset   \n",
       "3  not available in demo dataset    not available in demo dataset   \n",
       "4  not available in demo dataset    not available in demo dataset   \n",
       "\n",
       "        device.mobileDeviceModel     device.mobileInputSelector  \\\n",
       "0  not available in demo dataset  not available in demo dataset   \n",
       "1  not available in demo dataset  not available in demo dataset   \n",
       "2  not available in demo dataset  not available in demo dataset   \n",
       "3  not available in demo dataset  not available in demo dataset   \n",
       "4  not available in demo dataset  not available in demo dataset   \n",
       "\n",
       "  device.operatingSystem  device.operatingSystemVersion  \\\n",
       "0                Windows  not available in demo dataset   \n",
       "1              Macintosh  not available in demo dataset   \n",
       "2                Windows  not available in demo dataset   \n",
       "3                  Linux  not available in demo dataset   \n",
       "4                Android  not available in demo dataset   \n",
       "\n",
       "             device.screenColors        device.screenResolution  \\\n",
       "0  not available in demo dataset  not available in demo dataset   \n",
       "1  not available in demo dataset  not available in demo dataset   \n",
       "2  not available in demo dataset  not available in demo dataset   \n",
       "3  not available in demo dataset  not available in demo dataset   \n",
       "4  not available in demo dataset  not available in demo dataset   \n",
       "\n",
       "                 geoNetwork.city              geoNetwork.cityId  \\\n",
       "0                          Izmir  not available in demo dataset   \n",
       "1  not available in demo dataset  not available in demo dataset   \n",
       "2                         Madrid  not available in demo dataset   \n",
       "3  not available in demo dataset  not available in demo dataset   \n",
       "4  not available in demo dataset  not available in demo dataset   \n",
       "\n",
       "  geoNetwork.continent geoNetwork.country            geoNetwork.latitude  \\\n",
       "0                 Asia             Turkey  not available in demo dataset   \n",
       "1              Oceania          Australia  not available in demo dataset   \n",
       "2               Europe              Spain  not available in demo dataset   \n",
       "3                 Asia          Indonesia  not available in demo dataset   \n",
       "4               Europe     United Kingdom  not available in demo dataset   \n",
       "\n",
       "            geoNetwork.longitude               geoNetwork.metro  \\\n",
       "0  not available in demo dataset                      (not set)   \n",
       "1  not available in demo dataset  not available in demo dataset   \n",
       "2  not available in demo dataset                      (not set)   \n",
       "3  not available in demo dataset  not available in demo dataset   \n",
       "4  not available in demo dataset  not available in demo dataset   \n",
       "\n",
       "  geoNetwork.networkDomain     geoNetwork.networkLocation  \\\n",
       "0             ttnet.com.tr  not available in demo dataset   \n",
       "1              dodo.net.au  not available in demo dataset   \n",
       "2          unknown.unknown  not available in demo dataset   \n",
       "3          unknown.unknown  not available in demo dataset   \n",
       "4          unknown.unknown  not available in demo dataset   \n",
       "\n",
       "               geoNetwork.region geoNetwork.subContinent totals.bounces  \\\n",
       "0                          Izmir            Western Asia              1   \n",
       "1  not available in demo dataset             Australasia              1   \n",
       "2            Community of Madrid         Southern Europe              1   \n",
       "3  not available in demo dataset          Southeast Asia              1   \n",
       "4  not available in demo dataset         Northern Europe              1   \n",
       "\n",
       "  totals.hits totals.newVisits totals.pageviews totals.transactionRevenue  \\\n",
       "0           1                1                1                       NaN   \n",
       "1           1                1                1                       NaN   \n",
       "2           1                1                1                       NaN   \n",
       "3           1                1                1                       NaN   \n",
       "4           1              NaN                1                       NaN   \n",
       "\n",
       "  totals.visits trafficSource.adContent  \\\n",
       "0             1                     NaN   \n",
       "1             1                     NaN   \n",
       "2             1                     NaN   \n",
       "3             1                     NaN   \n",
       "4             1                     NaN   \n",
       "\n",
       "  trafficSource.adwordsClickInfo.adNetworkType  \\\n",
       "0                                          NaN   \n",
       "1                                          NaN   \n",
       "2                                          NaN   \n",
       "3                                          NaN   \n",
       "4                                          NaN   \n",
       "\n",
       "  trafficSource.adwordsClickInfo.criteriaParameters  \\\n",
       "0                     not available in demo dataset   \n",
       "1                     not available in demo dataset   \n",
       "2                     not available in demo dataset   \n",
       "3                     not available in demo dataset   \n",
       "4                     not available in demo dataset   \n",
       "\n",
       "  trafficSource.adwordsClickInfo.gclId  \\\n",
       "0                                  NaN   \n",
       "1                                  NaN   \n",
       "2                                  NaN   \n",
       "3                                  NaN   \n",
       "4                                  NaN   \n",
       "\n",
       "  trafficSource.adwordsClickInfo.isVideoAd  \\\n",
       "0                                      NaN   \n",
       "1                                      NaN   \n",
       "2                                      NaN   \n",
       "3                                      NaN   \n",
       "4                                      NaN   \n",
       "\n",
       "  trafficSource.adwordsClickInfo.page trafficSource.adwordsClickInfo.slot  \\\n",
       "0                                 NaN                                 NaN   \n",
       "1                                 NaN                                 NaN   \n",
       "2                                 NaN                                 NaN   \n",
       "3                                 NaN                                 NaN   \n",
       "4                                 NaN                                 NaN   \n",
       "\n",
       "  trafficSource.campaign trafficSource.campaignCode  \\\n",
       "0              (not set)                        NaN   \n",
       "1              (not set)                        NaN   \n",
       "2              (not set)                        NaN   \n",
       "3              (not set)                        NaN   \n",
       "4              (not set)                        NaN   \n",
       "\n",
       "  trafficSource.isTrueDirect trafficSource.keyword trafficSource.medium  \\\n",
       "0                        NaN        (not provided)              organic   \n",
       "1                        NaN        (not provided)              organic   \n",
       "2                        NaN        (not provided)              organic   \n",
       "3                        NaN       google + online              organic   \n",
       "4                       True        (not provided)              organic   \n",
       "\n",
       "  trafficSource.referralPath trafficSource.source  \n",
       "0                        NaN               google  \n",
       "1                        NaN               google  \n",
       "2                        NaN               google  \n",
       "3                        NaN               google  \n",
       "4                        NaN               google  "
      ]
     },
     "execution_count": 14,
     "metadata": {},
     "output_type": "execute_result"
    }
   ],
   "source": [
    "train_df.head()"
   ]
  },
  {
   "cell_type": "code",
   "execution_count": 15,
   "metadata": {},
   "outputs": [
    {
     "data": {
      "image/png": "[encoded data removed]",
      "text/plain": [
       "<Figure size 576x432 with 1 Axes>"
      ]
     },
     "metadata": {},
     "output_type": "display_data"
    }
   ],
   "source": [
    "train_df[\"totals.transactionRevenue\"] = train_df[\"totals.transactionRevenue\"].astype('float')\n",
    "gdf = train_df.groupby(\"fullVisitorId\")[\"totals.transactionRevenue\"].sum().reset_index()\n",
    "\n",
    "plt.figure(figsize=(8,6))\n",
    "plt.scatter(range(gdf.shape[0]), np.sort(np.log1p(gdf[\"totals.transactionRevenue\"].values)))\n",
    "plt.xlabel('index', fontsize=12)\n",
    "plt.ylabel('TransactionRevenue', fontsize=12)\n",
    "plt.show()"
   ]
  },
  {
   "cell_type": "code",
   "execution_count": 16,
   "metadata": {},
   "outputs": [
    {
     "name": "stdout",
     "output_type": "stream",
     "text": [
      "Number of instances in train set with non-zero revenue :  11515  and ratio is :  0.0127427231470487\n",
      "Number of unique customers with non-zero revenue :  9996 and the ratio is :  0.013996726255903731\n"
     ]
    }
   ],
   "source": [
    "nzi = pd.notnull(train_df[\"totals.transactionRevenue\"]).sum()\n",
    "nzr = (gdf[\"totals.transactionRevenue\"]>0).sum()\n",
    "print(\"Number of instances in train set with non-zero revenue : \", nzi, \" and ratio is : \", nzi / train_df.shape[0])\n",
    "print(\"Number of unique customers with non-zero revenue : \", nzr, \"and the ratio is : \", nzr / gdf.shape[0])"
   ]
  },
  {
   "cell_type": "code",
   "execution_count": 17,
   "metadata": {},
   "outputs": [
    {
     "name": "stdout",
     "output_type": "stream",
     "text": [
      "Number of unique visitors in train set :  714167  out of rows :  903653\n",
      "Number of unique visitors in test set :  617242  out of rows :  804684\n",
      "Number of common visitors in train and test set :  7679\n"
     ]
    }
   ],
   "source": [
    "print(\"Number of unique visitors in train set : \",train_df.fullVisitorId.nunique(), \" out of rows : \",train_df.shape[0])\n",
    "print(\"Number of unique visitors in test set : \",test_df.fullVisitorId.nunique(), \" out of rows : \",test_df.shape[0])\n",
    "print(\"Number of common visitors in train and test set : \",len(set(train_df.fullVisitorId.unique()).intersection(set(test_df.fullVisitorId.unique())) ))"
   ]
  },
  {
   "cell_type": "code",
   "execution_count": 18,
   "metadata": {},
   "outputs": [
    {
     "data": {
      "text/plain": [
       "['socialEngagementType',\n",
       " 'device.browserSize',\n",
       " 'device.browserVersion',\n",
       " 'device.flashVersion',\n",
       " 'device.language',\n",
       " 'device.mobileDeviceBranding',\n",
       " 'device.mobileDeviceInfo',\n",
       " 'device.mobileDeviceMarketingName',\n",
       " 'device.mobileDeviceModel',\n",
       " 'device.mobileInputSelector',\n",
       " 'device.operatingSystemVersion',\n",
       " 'device.screenColors',\n",
       " 'device.screenResolution',\n",
       " 'geoNetwork.cityId',\n",
       " 'geoNetwork.latitude',\n",
       " 'geoNetwork.longitude',\n",
       " 'geoNetwork.networkLocation',\n",
       " 'totals.visits',\n",
       " 'trafficSource.adwordsClickInfo.criteriaParameters']"
      ]
     },
     "execution_count": 18,
     "metadata": {},
     "output_type": "execute_result"
    }
   ],
   "source": [
    "const_cols = [c for c in train_df.columns if train_df[c].nunique(dropna=False)==1 ]\n",
    "const_cols"
   ]
  },
  {
   "cell_type": "code",
   "execution_count": 19,
   "metadata": {},
   "outputs": [
    {
     "name": "stdout",
     "output_type": "stream",
     "text": [
      "This is the format of your plot grid:\n",
      "[ (1,1) x1,y1 ]  [ (1,2) x2,y2 ]  [ (1,3) x3,y3 ]\n",
      "[ (2,1) x4,y4 ]  [ (2,2) x5,y5 ]  [ (2,3) x6,y6 ]\n",
      "[ (3,1) x7,y7 ]  [ (3,2) x8,y8 ]  [ (3,3) x9,y9 ]\n",
      "\n"
     ]
    },
    {
     "data": {
      "application/vnd.plotly.v1+json": {
       "data": [
        {
         "marker": {
          "color": "rgba(50, 171, 96, 0.6)"
         },
         "orientation": "h",
         "showlegend": false,
         "type": "bar",
         "uid": "8995eaca-e0a1-11e8-94d2-88e9fe67bc75",
         "x": [
          2427,
          5643,
          6139,
          6850,
          7865,
          10205,
          19375,
          37069,
          182245,
          620364
         ],
         "xaxis": "x",
         "y": [
          "UC Browser",
          "Opera",
          "Opera Mini",
          "Safari (in-app)",
          "Android Webview",
          "Edge",
          "Internet Explorer",
          "Firefox",
          "Safari",
          "Chrome"
         ],
         "yaxis": "y"
        },
        {
         "marker": {
          "color": "rgba(50, 171, 96, 0.6)"
         },
         "orientation": "h",
         "showlegend": false,
         "type": "bar",
         "uid": "89ab1b98-e0a1-11e8-957c-88e9fe67bc75",
         "x": [
          0,
          5,
          0,
          12,
          6,
          58,
          109,
          191,
          780,
          10353
         ],
         "xaxis": "x2",
         "y": [
          "UC Browser",
          "Opera",
          "Opera Mini",
          "Safari (in-app)",
          "Android Webview",
          "Edge",
          "Internet Explorer",
          "Firefox",
          "Safari",
          "Chrome"
         ],
         "yaxis": "y2"
        },
        {
         "marker": {
          "color": "rgba(50, 171, 96, 0.6)"
         },
         "orientation": "h",
         "showlegend": false,
         "type": "bar",
         "uid": "89abe1a4-e0a1-11e8-a6ac-88e9fe67bc75",
         "x": [
          null,
          43070000,
          null,
          12814166.666666666,
          19141666.666666668,
          111775344.8275862,
          75738990.82568808,
          467624712.04188484,
          67176256.41025642,
          133594606.39428185
         ],
         "xaxis": "x3",
         "y": [
          "UC Browser",
          "Opera",
          "Opera Mini",
          "Safari (in-app)",
          "Android Webview",
          "Edge",
          "Internet Explorer",
          "Firefox",
          "Safari",
          "Chrome"
         ],
         "yaxis": "y3"
        },
        {
         "marker": {
          "color": "rgba(71, 58, 131, 0.8)"
         },
         "orientation": "h",
         "showlegend": false,
         "type": "bar",
         "uid": "89ac7d80-e0a1-11e8-955d-88e9fe67bc75",
         "x": [
          30449,
          208725,
          664479
         ],
         "xaxis": "x4",
         "y": [
          "tablet",
          "mobile",
          "desktop"
         ],
         "yaxis": "y4"
        },
        {
         "marker": {
          "color": "rgba(71, 58, 131, 0.8)"
         },
         "orientation": "h",
         "showlegend": false,
         "type": "bar",
         "uid": "89acffd0-e0a1-11e8-8526-88e9fe67bc75",
         "x": [
          168,
          852,
          10495
         ],
         "xaxis": "x5",
         "y": [
          "tablet",
          "mobile",
          "desktop"
         ],
         "yaxis": "y5"
        },
        {
         "marker": {
          "color": "rgba(71, 58, 131, 0.8)"
         },
         "orientation": "h",
         "showlegend": false,
         "type": "bar",
         "uid": "89ad7f9e-e0a1-11e8-8c9a-88e9fe67bc75",
         "x": [
          56079404.76190476,
          58434049.295774646,
          141101866.60314435
         ],
         "xaxis": "x6",
         "y": [
          "tablet",
          "mobile",
          "desktop"
         ],
         "yaxis": "y6"
        },
        {
         "marker": {
          "color": "rgba(246, 78, 139, 0.6)"
         },
         "orientation": "h",
         "showlegend": false,
         "type": "bar",
         "uid": "89ade850-e0a1-11e8-bd4f-88e9fe67bc75",
         "x": [
          218,
          280,
          1216,
          4695,
          26337,
          35034,
          107665,
          123892,
          253938,
          350072
         ],
         "xaxis": "x7",
         "y": [
          "BlackBerry",
          "Samsung",
          "Windows Phone",
          "(not set)",
          "Chrome OS",
          "Linux",
          "iOS",
          "Android",
          "Macintosh",
          "Windows"
         ],
         "yaxis": "y7"
        },
        {
         "marker": {
          "color": "rgba(246, 78, 139, 0.6)"
         },
         "orientation": "h",
         "showlegend": false,
         "type": "bar",
         "uid": "89ae8738-e0a1-11e8-92bd-88e9fe67bc75",
         "x": [
          0,
          0,
          1,
          0,
          994,
          782,
          536,
          467,
          6426,
          2309
         ],
         "xaxis": "x8",
         "y": [
          "BlackBerry",
          "Samsung",
          "Windows Phone",
          "(not set)",
          "Chrome OS",
          "Linux",
          "iOS",
          "Android",
          "Macintosh",
          "Windows"
         ],
         "yaxis": "y8"
        },
        {
         "marker": {
          "color": "rgba(246, 78, 139, 0.6)"
         },
         "orientation": "h",
         "showlegend": false,
         "type": "bar",
         "uid": "89af196e-e0a1-11e8-810e-88e9fe67bc75",
         "x": [
          null,
          null,
          26400000,
          null,
          185048038.22937626,
          56151406.64961637,
          41356156.71641791,
          77818586.72376874,
          133267318.70525987,
          172071338.24166307
         ],
         "xaxis": "x9",
         "y": [
          "BlackBerry",
          "Samsung",
          "Windows Phone",
          "(not set)",
          "Chrome OS",
          "Linux",
          "iOS",
          "Android",
          "Macintosh",
          "Windows"
         ],
         "yaxis": "y9"
        }
       ],
       "layout": {
        "annotations": [
         {
          "font": {
           "size": 16
          },
          "showarrow": false,
          "text": "Device Browser - Count",
          "x": 0.14444444444444446,
          "xanchor": "center",
          "xref": "paper",
          "y": 1,
          "yanchor": "bottom",
          "yref": "paper"
         },
         {
          "font": {
           "size": 16
          },
          "showarrow": false,
          "text": "Device Browser - Non-zero Revenue Count",
          "x": 0.5,
          "xanchor": "center",
          "xref": "paper",
          "y": 1,
          "yanchor": "bottom",
          "yref": "paper"
         },
         {
          "font": {
           "size": 16
          },
          "showarrow": false,
          "text": "Device Browser - Mean Revenue",
          "x": 0.8555555555555556,
          "xanchor": "center",
          "xref": "paper",
          "y": 1,
          "yanchor": "bottom",
          "yref": "paper"
         },
         {
          "font": {
           "size": 16
          },
          "showarrow": false,
          "text": "Device Category - Count",
          "x": 0.14444444444444446,
          "xanchor": "center",
          "xref": "paper",
          "y": 0.6533333333333333,
          "yanchor": "bottom",
          "yref": "paper"
         },
         {
          "font": {
           "size": 16
          },
          "showarrow": false,
          "text": "Device Category - Non-zero Revenue Count",
          "x": 0.5,
          "xanchor": "center",
          "xref": "paper",
          "y": 0.6533333333333333,
          "yanchor": "bottom",
          "yref": "paper"
         },
         {
          "font": {
           "size": 16
          },
          "showarrow": false,
          "text": "Device Category - Mean Revenue",
          "x": 0.8555555555555556,
          "xanchor": "center",
          "xref": "paper",
          "y": 0.6533333333333333,
          "yanchor": "bottom",
          "yref": "paper"
         },
         {
          "font": {
           "size": 16
          },
          "showarrow": false,
          "text": "Device OS - Count",
          "x": 0.14444444444444446,
          "xanchor": "center",
          "xref": "paper",
          "y": 0.3066666666666667,
          "yanchor": "bottom",
          "yref": "paper"
         },
         {
          "font": {
           "size": 16
          },
          "showarrow": false,
          "text": "Device OS - Non-zero Revenue Count",
          "x": 0.5,
          "xanchor": "center",
          "xref": "paper",
          "y": 0.3066666666666667,
          "yanchor": "bottom",
          "yref": "paper"
         },
         {
          "font": {
           "size": 16
          },
          "showarrow": false,
          "text": "Device OS - Mean Revenue",
          "x": 0.8555555555555556,
          "xanchor": "center",
          "xref": "paper",
          "y": 0.3066666666666667,
          "yanchor": "bottom",
          "yref": "paper"
         }
        ],
        "height": 1200,
        "paper_bgcolor": "rgb(233,233,233)",
        "title": "Device Plots",
        "width": 1200,
        "xaxis": {
         "anchor": "y",
         "domain": [
          0,
          0.2888888888888889
         ]
        },
        "xaxis2": {
         "anchor": "y2",
         "domain": [
          0.35555555555555557,
          0.6444444444444445
         ]
        },
        "xaxis3": {
         "anchor": "y3",
         "domain": [
          0.7111111111111111,
          1
         ]
        },
        "xaxis4": {
         "anchor": "y4",
         "domain": [
          0,
          0.2888888888888889
         ]
        },
        "xaxis5": {
         "anchor": "y5",
         "domain": [
          0.35555555555555557,
          0.6444444444444445
         ]
        },
        "xaxis6": {
         "anchor": "y6",
         "domain": [
          0.7111111111111111,
          1
         ]
        },
        "xaxis7": {
         "anchor": "y7",
         "domain": [
          0,
          0.2888888888888889
         ]
        },
        "xaxis8": {
         "anchor": "y8",
         "domain": [
          0.35555555555555557,
          0.6444444444444445
         ]
        },
        "xaxis9": {
         "anchor": "y9",
         "domain": [
          0.7111111111111111,
          1
         ]
        },
        "yaxis": {
         "anchor": "x",
         "domain": [
          0.6933333333333334,
          1
         ]
        },
        "yaxis2": {
         "anchor": "x2",
         "domain": [
          0.6933333333333334,
          1
         ]
        },
        "yaxis3": {
         "anchor": "x3",
         "domain": [
          0.6933333333333334,
          1
         ]
        },
        "yaxis4": {
         "anchor": "x4",
         "domain": [
          0.3466666666666667,
          0.6533333333333333
         ]
        },
        "yaxis5": {
         "anchor": "x5",
         "domain": [
          0.3466666666666667,
          0.6533333333333333
         ]
        },
        "yaxis6": {
         "anchor": "x6",
         "domain": [
          0.3466666666666667,
          0.6533333333333333
         ]
        },
        "yaxis7": {
         "anchor": "x7",
         "domain": [
          0,
          0.3066666666666667
         ]
        },
        "yaxis8": {
         "anchor": "x8",
         "domain": [
          0,
          0.3066666666666667
         ]
        },
        "yaxis9": {
         "anchor": "x9",
         "domain": [
          0,
          0.3066666666666667
         ]
        }
       }
      },
      "text/html": [
       "<div id=\"68a64b21-11bd-4dc8-8270-2dfb37590a7a\" style=\"height: 1200px; width: 1200px;\" class=\"plotly-graph-div\"></div><script type=\"text/javascript\">require([\"plotly\"], function(Plotly) { window.PLOTLYENV=window.PLOTLYENV || {};window.PLOTLYENV.BASE_URL=\"https://plot.ly\";Plotly.newPlot(\"68a64b21-11bd-4dc8-8270-2dfb37590a7a\", [{\"marker\": {\"color\": \"rgba(50, 171, 96, 0.6)\"}, \"orientation\": \"h\", \"showlegend\": false, \"x\": [2427, 5643, 6139, 6850, 7865, 10205, 19375, 37069, 182245, 620364], \"y\": [\"UC Browser\", \"Opera\", \"Opera Mini\", \"Safari (in-app)\", \"Android Webview\", \"Edge\", \"Internet Explorer\", \"Firefox\", \"Safari\", \"Chrome\"], \"type\": \"bar\", \"uid\": \"8995eaca-e0a1-11e8-94d2-88e9fe67bc75\", \"xaxis\": \"x\", \"yaxis\": \"y\"}, {\"marker\": {\"color\": \"rgba(50, 171, 96, 0.6)\"}, \"orientation\": \"h\", \"showlegend\": false, \"x\": [0, 5, 0, 12, 6, 58, 109, 191, 780, 10353], \"y\": [\"UC Browser\", \"Opera\", \"Opera Mini\", \"Safari (in-app)\", \"Android Webview\", \"Edge\", \"Internet Explorer\", \"Firefox\", \"Safari\", \"Chrome\"], \"type\": \"bar\", \"uid\": \"89ab1b98-e0a1-11e8-957c-88e9fe67bc75\", \"xaxis\": \"x2\", \"yaxis\": \"y2\"}, {\"marker\": {\"color\": \"rgba(50, 171, 96, 0.6)\"}, \"orientation\": \"h\", \"showlegend\": false, \"x\": [null, 43070000.0, null, 12814166.666666666, 19141666.666666668, 111775344.8275862, 75738990.82568808, 467624712.04188484, 67176256.41025642, 133594606.39428185], \"y\": [\"UC Browser\", \"Opera\", \"Opera Mini\", \"Safari (in-app)\", \"Android Webview\", \"Edge\", \"Internet Explorer\", \"Firefox\", \"Safari\", \"Chrome\"], \"type\": \"bar\", \"uid\": \"89abe1a4-e0a1-11e8-a6ac-88e9fe67bc75\", \"xaxis\": \"x3\", \"yaxis\": \"y3\"}, {\"marker\": {\"color\": \"rgba(71, 58, 131, 0.8)\"}, \"orientation\": \"h\", \"showlegend\": false, \"x\": [30449, 208725, 664479], \"y\": [\"tablet\", \"mobile\", \"desktop\"], \"type\": \"bar\", \"uid\": \"89ac7d80-e0a1-11e8-955d-88e9fe67bc75\", \"xaxis\": \"x4\", \"yaxis\": \"y4\"}, {\"marker\": {\"color\": \"rgba(71, 58, 131, 0.8)\"}, \"orientation\": \"h\", \"showlegend\": false, \"x\": [168, 852, 10495], \"y\": [\"tablet\", \"mobile\", \"desktop\"], \"type\": \"bar\", \"uid\": \"89acffd0-e0a1-11e8-8526-88e9fe67bc75\", \"xaxis\": \"x5\", \"yaxis\": \"y5\"}, {\"marker\": {\"color\": \"rgba(71, 58, 131, 0.8)\"}, \"orientation\": \"h\", \"showlegend\": false, \"x\": [56079404.76190476, 58434049.295774646, 141101866.60314435], \"y\": [\"tablet\", \"mobile\", \"desktop\"], \"type\": \"bar\", \"uid\": \"89ad7f9e-e0a1-11e8-8c9a-88e9fe67bc75\", \"xaxis\": \"x6\", \"yaxis\": \"y6\"}, {\"marker\": {\"color\": \"rgba(246, 78, 139, 0.6)\"}, \"orientation\": \"h\", \"showlegend\": false, \"x\": [218, 280, 1216, 4695, 26337, 35034, 107665, 123892, 253938, 350072], \"y\": [\"BlackBerry\", \"Samsung\", \"Windows Phone\", \"(not set)\", \"Chrome OS\", \"Linux\", \"iOS\", \"Android\", \"Macintosh\", \"Windows\"], \"type\": \"bar\", \"uid\": \"89ade850-e0a1-11e8-bd4f-88e9fe67bc75\", \"xaxis\": \"x7\", \"yaxis\": \"y7\"}, {\"marker\": {\"color\": \"rgba(246, 78, 139, 0.6)\"}, \"orientation\": \"h\", \"showlegend\": false, \"x\": [0, 0, 1, 0, 994, 782, 536, 467, 6426, 2309], \"y\": [\"BlackBerry\", \"Samsung\", \"Windows Phone\", \"(not set)\", \"Chrome OS\", \"Linux\", \"iOS\", \"Android\", \"Macintosh\", \"Windows\"], \"type\": \"bar\", \"uid\": \"89ae8738-e0a1-11e8-92bd-88e9fe67bc75\", \"xaxis\": \"x8\", \"yaxis\": \"y8\"}, {\"marker\": {\"color\": \"rgba(246, 78, 139, 0.6)\"}, \"orientation\": \"h\", \"showlegend\": false, \"x\": [null, null, 26400000.0, null, 185048038.22937626, 56151406.64961637, 41356156.71641791, 77818586.72376874, 133267318.70525987, 172071338.24166307], \"y\": [\"BlackBerry\", \"Samsung\", \"Windows Phone\", \"(not set)\", \"Chrome OS\", \"Linux\", \"iOS\", \"Android\", \"Macintosh\", \"Windows\"], \"type\": \"bar\", \"uid\": \"89af196e-e0a1-11e8-810e-88e9fe67bc75\", \"xaxis\": \"x9\", \"yaxis\": \"y9\"}], {\"annotations\": [{\"font\": {\"size\": 16}, \"showarrow\": false, \"text\": \"Device Browser - Count\", \"x\": 0.14444444444444446, \"xanchor\": \"center\", \"xref\": \"paper\", \"y\": 1.0, \"yanchor\": \"bottom\", \"yref\": \"paper\"}, {\"font\": {\"size\": 16}, \"showarrow\": false, \"text\": \"Device Browser - Non-zero Revenue Count\", \"x\": 0.5, \"xanchor\": \"center\", \"xref\": \"paper\", \"y\": 1.0, \"yanchor\": \"bottom\", \"yref\": \"paper\"}, {\"font\": {\"size\": 16}, \"showarrow\": false, \"text\": \"Device Browser - Mean Revenue\", \"x\": 0.8555555555555556, \"xanchor\": \"center\", \"xref\": \"paper\", \"y\": 1.0, \"yanchor\": \"bottom\", \"yref\": \"paper\"}, {\"font\": {\"size\": 16}, \"showarrow\": false, \"text\": \"Device Category - Count\", \"x\": 0.14444444444444446, \"xanchor\": \"center\", \"xref\": \"paper\", \"y\": 0.6533333333333333, \"yanchor\": \"bottom\", \"yref\": \"paper\"}, {\"font\": {\"size\": 16}, \"showarrow\": false, \"text\": \"Device Category - Non-zero Revenue Count\", \"x\": 0.5, \"xanchor\": \"center\", \"xref\": \"paper\", \"y\": 0.6533333333333333, \"yanchor\": \"bottom\", \"yref\": \"paper\"}, {\"font\": {\"size\": 16}, \"showarrow\": false, \"text\": \"Device Category - Mean Revenue\", \"x\": 0.8555555555555556, \"xanchor\": \"center\", \"xref\": \"paper\", \"y\": 0.6533333333333333, \"yanchor\": \"bottom\", \"yref\": \"paper\"}, {\"font\": {\"size\": 16}, \"showarrow\": false, \"text\": \"Device OS - Count\", \"x\": 0.14444444444444446, \"xanchor\": \"center\", \"xref\": \"paper\", \"y\": 0.3066666666666667, \"yanchor\": \"bottom\", \"yref\": \"paper\"}, {\"font\": {\"size\": 16}, \"showarrow\": false, \"text\": \"Device OS - Non-zero Revenue Count\", \"x\": 0.5, \"xanchor\": \"center\", \"xref\": \"paper\", \"y\": 0.3066666666666667, \"yanchor\": \"bottom\", \"yref\": \"paper\"}, {\"font\": {\"size\": 16}, \"showarrow\": false, \"text\": \"Device OS - Mean Revenue\", \"x\": 0.8555555555555556, \"xanchor\": \"center\", \"xref\": \"paper\", \"y\": 0.3066666666666667, \"yanchor\": \"bottom\", \"yref\": \"paper\"}], \"xaxis\": {\"anchor\": \"y\", \"domain\": [0.0, 0.2888888888888889]}, \"yaxis\": {\"anchor\": \"x\", \"domain\": [0.6933333333333334, 1.0]}, \"xaxis2\": {\"anchor\": \"y2\", \"domain\": [0.35555555555555557, 0.6444444444444445]}, \"yaxis2\": {\"anchor\": \"x2\", \"domain\": [0.6933333333333334, 1.0]}, \"xaxis3\": {\"anchor\": \"y3\", \"domain\": [0.7111111111111111, 1.0]}, \"yaxis3\": {\"anchor\": \"x3\", \"domain\": [0.6933333333333334, 1.0]}, \"xaxis4\": {\"anchor\": \"y4\", \"domain\": [0.0, 0.2888888888888889]}, \"yaxis4\": {\"anchor\": \"x4\", \"domain\": [0.3466666666666667, 0.6533333333333333]}, \"xaxis5\": {\"anchor\": \"y5\", \"domain\": [0.35555555555555557, 0.6444444444444445]}, \"yaxis5\": {\"anchor\": \"x5\", \"domain\": [0.3466666666666667, 0.6533333333333333]}, \"xaxis6\": {\"anchor\": \"y6\", \"domain\": [0.7111111111111111, 1.0]}, \"yaxis6\": {\"anchor\": \"x6\", \"domain\": [0.3466666666666667, 0.6533333333333333]}, \"xaxis7\": {\"anchor\": \"y7\", \"domain\": [0.0, 0.2888888888888889]}, \"yaxis7\": {\"anchor\": \"x7\", \"domain\": [0.0, 0.3066666666666667]}, \"xaxis8\": {\"anchor\": \"y8\", \"domain\": [0.35555555555555557, 0.6444444444444445]}, \"yaxis8\": {\"anchor\": \"x8\", \"domain\": [0.0, 0.3066666666666667]}, \"xaxis9\": {\"anchor\": \"y9\", \"domain\": [0.7111111111111111, 1.0]}, \"yaxis9\": {\"anchor\": \"x9\", \"domain\": [0.0, 0.3066666666666667]}, \"height\": 1200, \"width\": 1200, \"paper_bgcolor\": \"rgb(233,233,233)\", \"title\": \"Device Plots\"}, {\"showLink\": true, \"linkText\": \"Export to plot.ly\"})});</script>"
      ],
      "text/vnd.plotly.v1+html": [
       "<div id=\"68a64b21-11bd-4dc8-8270-2dfb37590a7a\" style=\"height: 1200px; width: 1200px;\" class=\"plotly-graph-div\"></div><script type=\"text/javascript\">require([\"plotly\"], function(Plotly) { window.PLOTLYENV=window.PLOTLYENV || {};window.PLOTLYENV.BASE_URL=\"https://plot.ly\";Plotly.newPlot(\"68a64b21-11bd-4dc8-8270-2dfb37590a7a\", [{\"marker\": {\"color\": \"rgba(50, 171, 96, 0.6)\"}, \"orientation\": \"h\", \"showlegend\": false, \"x\": [2427, 5643, 6139, 6850, 7865, 10205, 19375, 37069, 182245, 620364], \"y\": [\"UC Browser\", \"Opera\", \"Opera Mini\", \"Safari (in-app)\", \"Android Webview\", \"Edge\", \"Internet Explorer\", \"Firefox\", \"Safari\", \"Chrome\"], \"type\": \"bar\", \"uid\": \"8995eaca-e0a1-11e8-94d2-88e9fe67bc75\", \"xaxis\": \"x\", \"yaxis\": \"y\"}, {\"marker\": {\"color\": \"rgba(50, 171, 96, 0.6)\"}, \"orientation\": \"h\", \"showlegend\": false, \"x\": [0, 5, 0, 12, 6, 58, 109, 191, 780, 10353], \"y\": [\"UC Browser\", \"Opera\", \"Opera Mini\", \"Safari (in-app)\", \"Android Webview\", \"Edge\", \"Internet Explorer\", \"Firefox\", \"Safari\", \"Chrome\"], \"type\": \"bar\", \"uid\": \"89ab1b98-e0a1-11e8-957c-88e9fe67bc75\", \"xaxis\": \"x2\", \"yaxis\": \"y2\"}, {\"marker\": {\"color\": \"rgba(50, 171, 96, 0.6)\"}, \"orientation\": \"h\", \"showlegend\": false, \"x\": [null, 43070000.0, null, 12814166.666666666, 19141666.666666668, 111775344.8275862, 75738990.82568808, 467624712.04188484, 67176256.41025642, 133594606.39428185], \"y\": [\"UC Browser\", \"Opera\", \"Opera Mini\", \"Safari (in-app)\", \"Android Webview\", \"Edge\", \"Internet Explorer\", \"Firefox\", \"Safari\", \"Chrome\"], \"type\": \"bar\", \"uid\": \"89abe1a4-e0a1-11e8-a6ac-88e9fe67bc75\", \"xaxis\": \"x3\", \"yaxis\": \"y3\"}, {\"marker\": {\"color\": \"rgba(71, 58, 131, 0.8)\"}, \"orientation\": \"h\", \"showlegend\": false, \"x\": [30449, 208725, 664479], \"y\": [\"tablet\", \"mobile\", \"desktop\"], \"type\": \"bar\", \"uid\": \"89ac7d80-e0a1-11e8-955d-88e9fe67bc75\", \"xaxis\": \"x4\", \"yaxis\": \"y4\"}, {\"marker\": {\"color\": \"rgba(71, 58, 131, 0.8)\"}, \"orientation\": \"h\", \"showlegend\": false, \"x\": [168, 852, 10495], \"y\": [\"tablet\", \"mobile\", \"desktop\"], \"type\": \"bar\", \"uid\": \"89acffd0-e0a1-11e8-8526-88e9fe67bc75\", \"xaxis\": \"x5\", \"yaxis\": \"y5\"}, {\"marker\": {\"color\": \"rgba(71, 58, 131, 0.8)\"}, \"orientation\": \"h\", \"showlegend\": false, \"x\": [56079404.76190476, 58434049.295774646, 141101866.60314435], \"y\": [\"tablet\", \"mobile\", \"desktop\"], \"type\": \"bar\", \"uid\": \"89ad7f9e-e0a1-11e8-8c9a-88e9fe67bc75\", \"xaxis\": \"x6\", \"yaxis\": \"y6\"}, {\"marker\": {\"color\": \"rgba(246, 78, 139, 0.6)\"}, \"orientation\": \"h\", \"showlegend\": false, \"x\": [218, 280, 1216, 4695, 26337, 35034, 107665, 123892, 253938, 350072], \"y\": [\"BlackBerry\", \"Samsung\", \"Windows Phone\", \"(not set)\", \"Chrome OS\", \"Linux\", \"iOS\", \"Android\", \"Macintosh\", \"Windows\"], \"type\": \"bar\", \"uid\": \"89ade850-e0a1-11e8-bd4f-88e9fe67bc75\", \"xaxis\": \"x7\", \"yaxis\": \"y7\"}, {\"marker\": {\"color\": \"rgba(246, 78, 139, 0.6)\"}, \"orientation\": \"h\", \"showlegend\": false, \"x\": [0, 0, 1, 0, 994, 782, 536, 467, 6426, 2309], \"y\": [\"BlackBerry\", \"Samsung\", \"Windows Phone\", \"(not set)\", \"Chrome OS\", \"Linux\", \"iOS\", \"Android\", \"Macintosh\", \"Windows\"], \"type\": \"bar\", \"uid\": \"89ae8738-e0a1-11e8-92bd-88e9fe67bc75\", \"xaxis\": \"x8\", \"yaxis\": \"y8\"}, {\"marker\": {\"color\": \"rgba(246, 78, 139, 0.6)\"}, \"orientation\": \"h\", \"showlegend\": false, \"x\": [null, null, 26400000.0, null, 185048038.22937626, 56151406.64961637, 41356156.71641791, 77818586.72376874, 133267318.70525987, 172071338.24166307], \"y\": [\"BlackBerry\", \"Samsung\", \"Windows Phone\", \"(not set)\", \"Chrome OS\", \"Linux\", \"iOS\", \"Android\", \"Macintosh\", \"Windows\"], \"type\": \"bar\", \"uid\": \"89af196e-e0a1-11e8-810e-88e9fe67bc75\", \"xaxis\": \"x9\", \"yaxis\": \"y9\"}], {\"annotations\": [{\"font\": {\"size\": 16}, \"showarrow\": false, \"text\": \"Device Browser - Count\", \"x\": 0.14444444444444446, \"xanchor\": \"center\", \"xref\": \"paper\", \"y\": 1.0, \"yanchor\": \"bottom\", \"yref\": \"paper\"}, {\"font\": {\"size\": 16}, \"showarrow\": false, \"text\": \"Device Browser - Non-zero Revenue Count\", \"x\": 0.5, \"xanchor\": \"center\", \"xref\": \"paper\", \"y\": 1.0, \"yanchor\": \"bottom\", \"yref\": \"paper\"}, {\"font\": {\"size\": 16}, \"showarrow\": false, \"text\": \"Device Browser - Mean Revenue\", \"x\": 0.8555555555555556, \"xanchor\": \"center\", \"xref\": \"paper\", \"y\": 1.0, \"yanchor\": \"bottom\", \"yref\": \"paper\"}, {\"font\": {\"size\": 16}, \"showarrow\": false, \"text\": \"Device Category - Count\", \"x\": 0.14444444444444446, \"xanchor\": \"center\", \"xref\": \"paper\", \"y\": 0.6533333333333333, \"yanchor\": \"bottom\", \"yref\": \"paper\"}, {\"font\": {\"size\": 16}, \"showarrow\": false, \"text\": \"Device Category - Non-zero Revenue Count\", \"x\": 0.5, \"xanchor\": \"center\", \"xref\": \"paper\", \"y\": 0.6533333333333333, \"yanchor\": \"bottom\", \"yref\": \"paper\"}, {\"font\": {\"size\": 16}, \"showarrow\": false, \"text\": \"Device Category - Mean Revenue\", \"x\": 0.8555555555555556, \"xanchor\": \"center\", \"xref\": \"paper\", \"y\": 0.6533333333333333, \"yanchor\": \"bottom\", \"yref\": \"paper\"}, {\"font\": {\"size\": 16}, \"showarrow\": false, \"text\": \"Device OS - Count\", \"x\": 0.14444444444444446, \"xanchor\": \"center\", \"xref\": \"paper\", \"y\": 0.3066666666666667, \"yanchor\": \"bottom\", \"yref\": \"paper\"}, {\"font\": {\"size\": 16}, \"showarrow\": false, \"text\": \"Device OS - Non-zero Revenue Count\", \"x\": 0.5, \"xanchor\": \"center\", \"xref\": \"paper\", \"y\": 0.3066666666666667, \"yanchor\": \"bottom\", \"yref\": \"paper\"}, {\"font\": {\"size\": 16}, \"showarrow\": false, \"text\": \"Device OS - Mean Revenue\", \"x\": 0.8555555555555556, \"xanchor\": \"center\", \"xref\": \"paper\", \"y\": 0.3066666666666667, \"yanchor\": \"bottom\", \"yref\": \"paper\"}], \"xaxis\": {\"anchor\": \"y\", \"domain\": [0.0, 0.2888888888888889]}, \"yaxis\": {\"anchor\": \"x\", \"domain\": [0.6933333333333334, 1.0]}, \"xaxis2\": {\"anchor\": \"y2\", \"domain\": [0.35555555555555557, 0.6444444444444445]}, \"yaxis2\": {\"anchor\": \"x2\", \"domain\": [0.6933333333333334, 1.0]}, \"xaxis3\": {\"anchor\": \"y3\", \"domain\": [0.7111111111111111, 1.0]}, \"yaxis3\": {\"anchor\": \"x3\", \"domain\": [0.6933333333333334, 1.0]}, \"xaxis4\": {\"anchor\": \"y4\", \"domain\": [0.0, 0.2888888888888889]}, \"yaxis4\": {\"anchor\": \"x4\", \"domain\": [0.3466666666666667, 0.6533333333333333]}, \"xaxis5\": {\"anchor\": \"y5\", \"domain\": [0.35555555555555557, 0.6444444444444445]}, \"yaxis5\": {\"anchor\": \"x5\", \"domain\": [0.3466666666666667, 0.6533333333333333]}, \"xaxis6\": {\"anchor\": \"y6\", \"domain\": [0.7111111111111111, 1.0]}, \"yaxis6\": {\"anchor\": \"x6\", \"domain\": [0.3466666666666667, 0.6533333333333333]}, \"xaxis7\": {\"anchor\": \"y7\", \"domain\": [0.0, 0.2888888888888889]}, \"yaxis7\": {\"anchor\": \"x7\", \"domain\": [0.0, 0.3066666666666667]}, \"xaxis8\": {\"anchor\": \"y8\", \"domain\": [0.35555555555555557, 0.6444444444444445]}, \"yaxis8\": {\"anchor\": \"x8\", \"domain\": [0.0, 0.3066666666666667]}, \"xaxis9\": {\"anchor\": \"y9\", \"domain\": [0.7111111111111111, 1.0]}, \"yaxis9\": {\"anchor\": \"x9\", \"domain\": [0.0, 0.3066666666666667]}, \"height\": 1200, \"width\": 1200, \"paper_bgcolor\": \"rgb(233,233,233)\", \"title\": \"Device Plots\"}, {\"showLink\": true, \"linkText\": \"Export to plot.ly\"})});</script>"
      ]
     },
     "metadata": {},
     "output_type": "display_data"
    }
   ],
   "source": [
    "def horizontal_bar_chart(cnt_srs, color):\n",
    "    trace = go.Bar(\n",
    "        y=cnt_srs.index[::-1],\n",
    "        x=cnt_srs.values[::-1],\n",
    "        showlegend=False,\n",
    "        orientation = 'h',\n",
    "        marker=dict(\n",
    "            color=color,\n",
    "        ),\n",
    "    )\n",
    "    return trace\n",
    "\n",
    "# Device Browser\n",
    "cnt_srs = train_df.groupby('device.browser')['totals.transactionRevenue'].agg(['size', 'count', 'mean'])\n",
    "cnt_srs.columns = [\"count\", \"count of non-zero revenue\", \"mean\"]\n",
    "cnt_srs = cnt_srs.sort_values(by=\"count\", ascending=False)\n",
    "trace1 = horizontal_bar_chart(cnt_srs[\"count\"].head(10), 'rgba(50, 171, 96, 0.6)')\n",
    "trace2 = horizontal_bar_chart(cnt_srs[\"count of non-zero revenue\"].head(10), 'rgba(50, 171, 96, 0.6)')\n",
    "trace3 = horizontal_bar_chart(cnt_srs[\"mean\"].head(10), 'rgba(50, 171, 96, 0.6)')\n",
    "\n",
    "# Device Category\n",
    "cnt_srs = train_df.groupby('device.deviceCategory')['totals.transactionRevenue'].agg(['size', 'count', 'mean'])\n",
    "cnt_srs.columns = [\"count\", \"count of non-zero revenue\", \"mean\"]\n",
    "cnt_srs = cnt_srs.sort_values(by=\"count\", ascending=False)\n",
    "trace4 = horizontal_bar_chart(cnt_srs[\"count\"].head(10), 'rgba(71, 58, 131, 0.8)')\n",
    "trace5 = horizontal_bar_chart(cnt_srs[\"count of non-zero revenue\"].head(10), 'rgba(71, 58, 131, 0.8)')\n",
    "trace6 = horizontal_bar_chart(cnt_srs[\"mean\"].head(10), 'rgba(71, 58, 131, 0.8)')\n",
    "\n",
    "# Operating system\n",
    "cnt_srs = train_df.groupby('device.operatingSystem')['totals.transactionRevenue'].agg(['size', 'count', 'mean'])\n",
    "cnt_srs.columns = [\"count\", \"count of non-zero revenue\", \"mean\"]\n",
    "cnt_srs = cnt_srs.sort_values(by=\"count\", ascending=False)\n",
    "trace7 = horizontal_bar_chart(cnt_srs[\"count\"].head(10), 'rgba(246, 78, 139, 0.6)')\n",
    "trace8 = horizontal_bar_chart(cnt_srs[\"count of non-zero revenue\"].head(10),'rgba(246, 78, 139, 0.6)')\n",
    "trace9 = horizontal_bar_chart(cnt_srs[\"mean\"].head(10),'rgba(246, 78, 139, 0.6)')\n",
    "\n",
    "# Creating two subplots\n",
    "fig = tools.make_subplots(rows=3, cols=3, vertical_spacing=0.04, \n",
    "                          subplot_titles=[\"Device Browser - Count\", \"Device Browser - Non-zero Revenue Count\", \"Device Browser - Mean Revenue\",\n",
    "                                          \"Device Category - Count\",  \"Device Category - Non-zero Revenue Count\", \"Device Category - Mean Revenue\", \n",
    "                                          \"Device OS - Count\", \"Device OS - Non-zero Revenue Count\", \"Device OS - Mean Revenue\"])\n",
    "\n",
    "fig.append_trace(trace1, 1, 1)\n",
    "fig.append_trace(trace2, 1, 2)\n",
    "fig.append_trace(trace3, 1, 3)\n",
    "fig.append_trace(trace4, 2, 1)\n",
    "fig.append_trace(trace5, 2, 2)\n",
    "fig.append_trace(trace6, 2, 3)\n",
    "fig.append_trace(trace7, 3, 1)\n",
    "fig.append_trace(trace8, 3, 2)\n",
    "fig.append_trace(trace9, 3, 3)\n",
    "\n",
    "fig['layout'].update(height=1200, width=1200, paper_bgcolor='rgb(233,233,233)', title=\"Device Plots\")\n",
    "py.iplot(fig, filename='device-plots')"
   ]
  },
  {
   "cell_type": "code",
   "execution_count": 20,
   "metadata": {},
   "outputs": [
    {
     "name": "stdout",
     "output_type": "stream",
     "text": [
      "Variables not in test but in train :  {'trafficSource.campaignCode', 'totals.transactionRevenue'}\n"
     ]
    }
   ],
   "source": [
    "print(\"Variables not in test but in train : \", set(train_df.columns).difference(set(test_df.columns)))"
   ]
  },
  {
   "cell_type": "code",
   "execution_count": 21,
   "metadata": {},
   "outputs": [],
   "source": [
    "cols_to_drop = const_cols + ['sessionId']\n",
    "\n",
    "train_df = train_df.drop(cols_to_drop + [\"trafficSource.campaignCode\"], axis=1)\n",
    "test_df = test_df.drop(cols_to_drop, axis=1)"
   ]
  },
  {
   "cell_type": "code",
   "execution_count": 25,
   "metadata": {},
   "outputs": [
    {
     "name": "stdout",
     "output_type": "stream",
     "text": [
      "channelGrouping\n",
      "device.browser\n",
      "device.deviceCategory\n",
      "device.operatingSystem\n",
      "geoNetwork.city\n",
      "geoNetwork.continent\n",
      "geoNetwork.country\n",
      "geoNetwork.metro\n",
      "geoNetwork.networkDomain\n",
      "geoNetwork.region\n",
      "geoNetwork.subContinent\n",
      "trafficSource.adContent\n",
      "trafficSource.adwordsClickInfo.adNetworkType\n",
      "trafficSource.adwordsClickInfo.gclId\n",
      "trafficSource.adwordsClickInfo.page\n",
      "trafficSource.adwordsClickInfo.slot\n",
      "trafficSource.campaign\n",
      "trafficSource.keyword\n",
      "trafficSource.medium\n",
      "trafficSource.referralPath\n",
      "trafficSource.source\n",
      "trafficSource.adwordsClickInfo.isVideoAd\n",
      "trafficSource.isTrueDirect\n"
     ]
    }
   ],
   "source": [
    "# Impute 0 for missing target values\n",
    "train_df[\"totals.transactionRevenue\"].fillna(0, inplace=True)\n",
    "train_y = train_df[\"totals.transactionRevenue\"].values\n",
    "train_id = train_df[\"fullVisitorId\"].values\n",
    "test_id = test_df[\"fullVisitorId\"].values\n",
    "\n",
    "\n",
    "# label encode the categorical variables and convert the numerical variables to float\n",
    "cat_cols = [\"channelGrouping\", \"device.browser\", \n",
    "            \"device.deviceCategory\", \"device.operatingSystem\", \n",
    "            \"geoNetwork.city\", \"geoNetwork.continent\", \n",
    "            \"geoNetwork.country\", \"geoNetwork.metro\",\n",
    "            \"geoNetwork.networkDomain\", \"geoNetwork.region\", \n",
    "            \"geoNetwork.subContinent\", \"trafficSource.adContent\", \n",
    "            \"trafficSource.adwordsClickInfo.adNetworkType\", \n",
    "            \"trafficSource.adwordsClickInfo.gclId\", \n",
    "            \"trafficSource.adwordsClickInfo.page\", \n",
    "            \"trafficSource.adwordsClickInfo.slot\", \"trafficSource.campaign\",\n",
    "            \"trafficSource.keyword\", \"trafficSource.medium\", \n",
    "            \"trafficSource.referralPath\", \"trafficSource.source\",\n",
    "            'trafficSource.adwordsClickInfo.isVideoAd', 'trafficSource.isTrueDirect']\n",
    "for col in cat_cols:\n",
    "    print(col)\n",
    "    lbl = preprocessing.LabelEncoder()\n",
    "    lbl.fit(list(train_df[col].values.astype('str')) + list(test_df[col].values.astype('str')))\n",
    "    train_df[col] = lbl.transform(list(train_df[col].values.astype('str')))\n",
    "    test_df[col] = lbl.transform(list(test_df[col].values.astype('str')))\n",
    "\n",
    "\n",
    "num_cols = [\"totals.hits\", \"totals.pageviews\", \"visitNumber\", \"visitStartTime\", 'totals.bounces',  'totals.newVisits']    \n",
    "for col in num_cols:\n",
    "    train_df[col] = train_df[col].astype(float)\n",
    "    test_df[col] = test_df[col].astype(float)\n",
    "\n",
    "# Split the train dataset into development and valid based on time \n",
    "dev_df = train_df[train_df['date']<=20170531]\n",
    "val_df = train_df[train_df['date']>20170531]\n",
    "dev_y = np.log1p(dev_df[\"totals.transactionRevenue\"].values)\n",
    "val_y = np.log1p(val_df[\"totals.transactionRevenue\"].values)\n",
    "\n",
    "dev_X = dev_df[cat_cols + num_cols] \n",
    "val_X = val_df[cat_cols + num_cols] \n",
    "test_X = test_df[cat_cols + num_cols] "
   ]
  },
  {
   "cell_type": "code",
   "execution_count": 26,
   "metadata": {},
   "outputs": [
    {
     "name": "stdout",
     "output_type": "stream",
     "text": [
      "Training until validation scores don't improve for 100 rounds.\n",
      "[100]\tvalid_0's rmse: 1.69798\n",
      "[200]\tvalid_0's rmse: 1.69324\n",
      "Early stopping, best iteration is:\n",
      "[199]\tvalid_0's rmse: 1.69322\n"
     ]
    }
   ],
   "source": [
    "# custom function to run light gbm model\n",
    "def run_lgb(train_X, train_y, val_X, val_y, test_X):\n",
    "    params = {\n",
    "        \"objective\" : \"regression\",\n",
    "        \"metric\" : \"rmse\", \n",
    "        \"num_leaves\" : 30,\n",
    "        \"min_child_samples\" : 100,\n",
    "        \"learning_rate\" : 0.1,\n",
    "        \"bagging_fraction\" : 0.7,\n",
    "        \"feature_fraction\" : 0.5,\n",
    "        \"bagging_frequency\" : 5,\n",
    "        \"bagging_seed\" : 2018,\n",
    "        \"verbosity\" : -1\n",
    "    }\n",
    "    \n",
    "    lgtrain = lgb.Dataset(train_X, label=train_y)\n",
    "    lgval = lgb.Dataset(val_X, label=val_y)\n",
    "    model = lgb.train(params, lgtrain, 1000, valid_sets=[lgval], early_stopping_rounds=100, verbose_eval=100)\n",
    "    \n",
    "    pred_test_y = model.predict(test_X, num_iteration=model.best_iteration)\n",
    "    pred_val_y = model.predict(val_X, num_iteration=model.best_iteration)\n",
    "    return pred_test_y, model, pred_val_y\n",
    "\n",
    "# Training the model #\n",
    "pred_test, model, pred_val = run_lgb(dev_X, dev_y, val_X, val_y, test_X)"
   ]
  },
  {
   "cell_type": "code",
   "execution_count": 27,
   "metadata": {},
   "outputs": [
    {
     "name": "stdout",
     "output_type": "stream",
     "text": [
      "1.7135916870939392\n"
     ]
    }
   ],
   "source": [
    "from sklearn import metrics\n",
    "pred_val[pred_val<0] = 0\n",
    "val_pred_df = pd.DataFrame({\"fullVisitorId\":val_df[\"fullVisitorId\"].values})\n",
    "val_pred_df[\"transactionRevenue\"] = val_df[\"totals.transactionRevenue\"].values\n",
    "val_pred_df[\"PredictedRevenue\"] = np.expm1(pred_val)\n",
    "#print(np.sqrt(metrics.mean_squared_error(np.log1p(val_pred_df[\"transactionRevenue\"].values), np.log1p(val_pred_df[\"PredictedRevenue\"].values))))\n",
    "val_pred_df = val_pred_df.groupby(\"fullVisitorId\")[\"transactionRevenue\", \"PredictedRevenue\"].sum().reset_index()\n",
    "print(np.sqrt(metrics.mean_squared_error(np.log1p(val_pred_df[\"transactionRevenue\"].values), np.log1p(val_pred_df[\"PredictedRevenue\"].values))))"
   ]
  },
  {
   "cell_type": "code",
   "execution_count": 28,
   "metadata": {},
   "outputs": [],
   "source": [
    "sub_df = pd.DataFrame({\"fullVisitorId\":test_id})\n",
    "pred_test[pred_test<0] = 0\n",
    "sub_df[\"PredictedLogRevenue\"] = np.expm1(pred_test)\n",
    "sub_df = sub_df.groupby(\"fullVisitorId\")[\"PredictedLogRevenue\"].sum().reset_index()\n",
    "sub_df.columns = [\"fullVisitorId\", \"PredictedLogRevenue\"]\n",
    "sub_df[\"PredictedLogRevenue\"] = np.log1p(sub_df[\"PredictedLogRevenue\"])\n",
    "sub_df.to_csv(\"baseline_lgb.csv\", index=False)"
   ]
  },
  {
   "cell_type": "code",
   "execution_count": 29,
   "metadata": {},
   "outputs": [
    {
     "data": {
      "text/html": [
       "<div>\n",
       "<style scoped>\n",
       "    .dataframe tbody tr th:only-of-type {\n",
       "        vertical-align: middle;\n",
       "    }\n",
       "\n",
       "    .dataframe tbody tr th {\n",
       "        vertical-align: top;\n",
       "    }\n",
       "\n",
       "    .dataframe thead th {\n",
       "        text-align: right;\n",
       "    }\n",
       "</style>\n",
       "<table border=\"1\" class=\"dataframe\">\n",
       "  <thead>\n",
       "    <tr style=\"text-align: right;\">\n",
       "      <th></th>\n",
       "      <th>fullVisitorId</th>\n",
       "      <th>PredictedLogRevenue</th>\n",
       "    </tr>\n",
       "  </thead>\n",
       "  <tbody>\n",
       "    <tr>\n",
       "      <th>0</th>\n",
       "      <td>0000000259678714014</td>\n",
       "      <td>0.738602</td>\n",
       "    </tr>\n",
       "    <tr>\n",
       "      <th>1</th>\n",
       "      <td>0000049363351866189</td>\n",
       "      <td>0.000000</td>\n",
       "    </tr>\n",
       "    <tr>\n",
       "      <th>2</th>\n",
       "      <td>0000053049821714864</td>\n",
       "      <td>0.003758</td>\n",
       "    </tr>\n",
       "    <tr>\n",
       "      <th>3</th>\n",
       "      <td>0000059488412965267</td>\n",
       "      <td>0.206242</td>\n",
       "    </tr>\n",
       "    <tr>\n",
       "      <th>4</th>\n",
       "      <td>0000085840370633780</td>\n",
       "      <td>0.000000</td>\n",
       "    </tr>\n",
       "  </tbody>\n",
       "</table>\n",
       "</div>"
      ],
      "text/plain": [
       "         fullVisitorId  PredictedLogRevenue\n",
       "0  0000000259678714014             0.738602\n",
       "1  0000049363351866189             0.000000\n",
       "2  0000053049821714864             0.003758\n",
       "3  0000059488412965267             0.206242\n",
       "4  0000085840370633780             0.000000"
      ]
     },
     "execution_count": 29,
     "metadata": {},
     "output_type": "execute_result"
    }
   ],
   "source": [
    "sub_df.head()"
   ]
  },
  {
   "cell_type": "code",
   "execution_count": 30,
   "metadata": {},
   "outputs": [
    {
     "data": {
      "image/png": "[encoded data removed]",
      "text/plain": [
       "<Figure size 864x1296 with 1 Axes>"
      ]
     },
     "metadata": {},
     "output_type": "display_data"
    }
   ],
   "source": [
    "fig, ax = plt.subplots(figsize=(12,18))\n",
    "lgb.plot_importance(model, max_num_features=50, height=0.8, ax=ax)\n",
    "ax.grid(False)\n",
    "plt.title(\"LightGBM - Feature Importance\", fontsize=15)\n",
    "plt.show()"
   ]
  },
  {
   "cell_type": "code",
   "execution_count": null,
   "metadata": {},
   "outputs": [],
   "source": []
  }
 ],
 "metadata": {
  "kernelspec": {
   "display_name": "Python 3",
   "language": "python",
   "name": "python3"
  },
  "language_info": {
   "codemirror_mode": {
    "name": "ipython",
    "version": 3
   },
   "file_extension": ".py",
   "mimetype": "text/x-python",
   "name": "python",
   "nbconvert_exporter": "python",
   "pygments_lexer": "ipython3",
   "version": "3.6.5"
  }
 },
 "nbformat": 4,
 "nbformat_minor": 2
}
